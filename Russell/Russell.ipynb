{
 "cells": [
  {
   "cell_type": "markdown",
   "metadata": {},
   "source": [
    "Your names: Russell\n",
    "Your Titles: Research Lead\n",
    "Date: 11/18\n",
    "Project title: Sprint Project v2.53 Kinetic Energy Data Visualization Project\n",
    "given the two equations that are needed in the program\n",
    "K = (MxV^2)/2\n",
    "ke1 = (m*v1**2)/2\n",
    "ke2 = (m*v2**2)/2\n"
   ]
  }
 ],
 "metadata": {
  "language_info": {
   "name": "python"
  }
 },
 "nbformat": 4,
 "nbformat_minor": 2
}
