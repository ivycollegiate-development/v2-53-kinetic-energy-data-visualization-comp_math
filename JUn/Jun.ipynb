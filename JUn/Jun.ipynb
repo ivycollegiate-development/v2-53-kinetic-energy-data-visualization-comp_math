{
 "cells": [
  {
   "cell_type": "markdown",
   "metadata": {},
   "source": [
    "Jun\n",
    "project manager\n",
    "11/20\n",
    "Kinetic Energy Data Visualization Project\n",
    "I oversee team coordination and ensure project timelines are met for the computational mathematics initiative."
   ]
  }
 ],
 "metadata": {
  "language_info": {
   "name": "python"
  }
 },
 "nbformat": 4,
 "nbformat_minor": 2
}
